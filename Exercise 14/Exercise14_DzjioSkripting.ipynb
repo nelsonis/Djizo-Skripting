{
 "cells": [
  {
   "cell_type": "code",
   "execution_count": null,
   "metadata": {
    "collapsed": true
   },
   "outputs": [],
   "source": [
    "## Exercise 14\n",
    "## Team Dzjio Skripting\n",
    "## Gersom Zomer & Yannick Mijnheer\n",
    "## 26 January 2017"
   ]
  },
  {
   "cell_type": "code",
   "execution_count": 2,
   "metadata": {
    "collapsed": false
   },
   "outputs": [],
   "source": [
    "## import packages\n",
    "from twython import Twython\n",
    "from osgeo import ogr,osr\n",
    "import json\n",
    "import datetime\n",
    "import csv\n",
    "import folium\n",
    "import os\n",
    "\n",
    "## access twitter API \n",
    "APP_KEY = 'W5NxkTOBUzqxOwVMue0zhBpCI'\n",
    "APP_SECRET = 'kydR7oDhbMvdZ7LkU4eES47ogdlXWDccgwxqxwrPjJ9TwfDjw1'\n",
    "OAUTH_TOKEN = '759844343050035200-T3OjfWEWLNNyXlYBRXp58NS3mV8uyyJ'\n",
    "OAUTH_TOKEN_SECRET = 'UgkO3nQKB9Yoc2yI1okRZ1sxGf9ekguNFWICmZsaxIz8y'\n",
    "\n",
    "## initiate Twython object \n",
    "twitter = Twython(APP_KEY, APP_SECRET, OAUTH_TOKEN, OAUTH_TOKEN_SECRET)"
   ]
  },
  {
   "cell_type": "code",
   "execution_count": 19,
   "metadata": {
    "collapsed": false
   },
   "outputs": [],
   "source": [
    "## Define a function to search for tweets:\n",
    "## This is the main function, in which you can specify your twitter-search.\n",
    "## This function does not need any input, since everything is set by default. But you\n",
    "## have the option to change the hashtag-search, count, radius, latitude and longitude.\n",
    "\n",
    "def search_twitter(hashtag='Amsterdam', count=25, radius='25km', lat=51.9700000,lon=5.6666700):\n",
    "    search = twitter.search(q='#%s'%(hashtag),geocode='%.6f,%.6f,%s'%(lat,lon,radius), count=count)\n",
    "    user  = []\n",
    "    foll  = []\n",
    "    lati  = []\n",
    "    longi = []\n",
    "    for tweet in search[\"statuses\"]:\n",
    "        coordinates = tweet['coordinates']\n",
    "        if coordinates!= None:\n",
    "            tweettext = tweet['text'] \n",
    "            user  = user  + [tweet['user']['screen_name']] # username\n",
    "            foll  = foll  + [tweet['user']['followers_count']] # number of followers\n",
    "            lati  = lati  + [coordinates['coordinates'][1]] # latitude\n",
    "            longi = longi + [coordinates['coordinates'][0]] # longitude\n",
    "    result = zip(user, foll, lati, longi)\n",
    "    return result\n",
    "\n",
    "\n",
    "## Define a function to save the results to csv-file:\n",
    "## This function is created to serve the output of search_twitter, and \n",
    "## by default save it as 'Ex14_twitter_results.csv'.\n",
    "\n",
    "def csv_twitter(inputdata, output = 'Ex14_twitter_results.csv'):\n",
    "    with open(output,'wb') as out:\n",
    "        csv_out=csv.writer(out)\n",
    "        csv_out.writerow(['Username','Followers','Latitude','Longitude'])\n",
    "        for row in inputdata:\n",
    "            csv_out.writerow(row)\n",
    "\n",
    "            \n",
    "## Define a function to create a shapefile from the search_twitter results:\n",
    "## The input for this function consists of: \n",
    "## (input data(list of tuples), output shapefile name, output layer name)\n",
    "\n",
    "def shp_twitter(datalist, outshape = 'Ex14_tweets.shp', outlayer = 'Ex14_layer'): \n",
    "    ## Set ESRI shapefile driver\n",
    "    drv = ogr.GetDriverByName(\"ESRI Shapefile\")\n",
    "    if drv is None:\n",
    "        print \"%s driver not available.\\n\" % driverName\n",
    "        pass\n",
    "    \n",
    "    ## Create a shape file\n",
    "    ds = drv.CreateDataSource(outshape)\n",
    "    \n",
    "    # Set spatial reference\n",
    "    spatialReference = osr.SpatialReference()\n",
    "    spatialReference.ImportFromProj4('+proj=longlat +ellps=WGS84 +datum=WGS84 +no_defs')\n",
    "    \n",
    "    ## Create a layer\n",
    "    layer = ds.CreateLayer(outlayer, spatialReference, ogr.wkbPoint)\n",
    "    layerDefinition = layer.GetLayerDefn()\n",
    "    \n",
    "    ## Create points\n",
    "    for i in range(len(datalist)):\n",
    "        exec(\"point%d = ogr.Geometry(ogr.wkbPoint)\" % (i+1))\n",
    "        ## SetPoint(self, int point, double x, double y, double z = 0)\n",
    "        exec(\"point%d.SetPoint(0,%.6f,%.6f)\" % (i+1,datalist[i][3],datalist[i][2]))\n",
    "        ## Create features\n",
    "        exec(\"feature%d = ogr.Feature(layerDefinition)\" % (i+1))\n",
    "        ## Add the points to the features\n",
    "        exec(\"feature%d.SetGeometry(point%d)\" % (i+1,i+1))\n",
    "        ## Store the feature in a layer\n",
    "        exec(\"layer.CreateFeature(feature%d)\" % (i+1))\n",
    "    \n",
    "    ## The shapefile is updated with all object structures \n",
    "    ## when the script is destroyed:\n",
    "    ds.Destroy()"
   ]
  },
  {
   "cell_type": "code",
   "execution_count": 20,
   "metadata": {
    "collapsed": false
   },
   "outputs": [],
   "source": [
    "## test the functions:\n",
    "\n",
    "Coffee_NewYork = search_twitter(hashtag='coffee', count=200, lat = 40.730610, lon = -73.935242) \n",
    "print(Coffee_NewYork)\n",
    "\n",
    "csv_twitter(Coffee_NewYork, 'Tweets_Coffee_NewYork.csv')\n",
    "shp_twitter(Coffee_NewYork, outshape = 'Tweets_Coffee_NewYork.shp')\n"
   ]
  }
 ],
 "metadata": {
  "kernelspec": {
   "display_name": "Python 2",
   "language": "python",
   "name": "python2"
  },
  "language_info": {
   "codemirror_mode": {
    "name": "ipython",
    "version": 2
   },
   "file_extension": ".py",
   "mimetype": "text/x-python",
   "name": "python",
   "nbconvert_exporter": "python",
   "pygments_lexer": "ipython2",
   "version": "2.7.12"
  }
 },
 "nbformat": 4,
 "nbformat_minor": 2
}
