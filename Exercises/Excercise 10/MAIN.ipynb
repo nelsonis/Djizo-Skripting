{
 "cells": [
  {
   "cell_type": "code",
   "execution_count": 1,
   "metadata": {
    "collapsed": false
   },
   "outputs": [
    {
     "name": "stdout",
     "output_type": "stream",
     "text": [
      "ESRI Shapefile driver IS available.\n",
      "\n",
      "1\n",
      "The new extent\n",
      "(3.877405, 7.131818, 51.277835, 53.215151)\n"
     ]
    }
   ],
   "source": [
    "## Loading the modules\n",
    "from osgeo import ogr,osr\n",
    "import os\n",
    "\n",
    "#os.chdir('./Data')\n",
    "## Is the ESRI Shapefile driver available?\n",
    "driverName = \"ESRI Shapefile\"\n",
    "drv = ogr.GetDriverByName( driverName )\n",
    "if drv is None:\n",
    "    print \"%s driver not available.\\n\" % driverName\n",
    "else:\n",
    "    print  \"%s driver IS available.\\n\" % driverName\n",
    "\n",
    "## choose your own name\n",
    "fn = \"Data/points.shp\"\n",
    "layername = \"Data/pointlayer\"\n",
    "\n",
    "## Create shape file\n",
    "ds = drv.CreateDataSource(fn)\n",
    "print ds.GetRefCount()\n",
    "\n",
    "# Set spatial reference\n",
    "spatialReference = osr.SpatialReference()\n",
    "spatialReference.ImportFromProj4('+proj=longlat +ellps=WGS84 +datum=WGS84 +no_defs')\n",
    "\n",
    "#set point coordinates\n",
    "points = [(7.131818, 53.215151), (3.877405, 51.277835)]\n",
    "\n",
    "## Create Layer\n",
    "layer=ds.CreateLayer(layername, spatialReference, ogr.wkbPoint)\n",
    "layerDefinition = layer.GetLayerDefn()\n",
    "\n",
    "#add point to feature and store them\n",
    "for element in points:\n",
    "    feature = ogr.Feature(layerDefinition)\n",
    "    point = ogr.Geometry(ogr.wkbPoint)\n",
    "    point.SetPoint(0, element[0], element[1], 0)\n",
    "    feature.SetGeometry(point)\n",
    "    layer.CreateFeature(feature)\n",
    "    \n",
    "print \"The new extent\"\n",
    "print layer.GetExtent()\n",
    "\n",
    "ds.Destroy()"
   ]
  },
  {
   "cell_type": "code",
   "execution_count": 2,
   "metadata": {
    "collapsed": false
   },
   "outputs": [
    {
     "data": {
      "text/plain": [
       "0"
      ]
     },
     "execution_count": 2,
     "metadata": {},
     "output_type": "execute_result"
    }
   ],
   "source": [
    "os.system('ogr2ogr -f GeoJSON -t_srs crs:84 Data/points.geojson Data/points.shp')\n",
    "os.system('ogr2ogr -f KML -t_srs crs:84 Output/kml_file.kml Data/points.shp')"
   ]
  },
  {
   "cell_type": "code",
   "execution_count": 3,
   "metadata": {
    "collapsed": false
   },
   "outputs": [
    {
     "data": {
      "text/html": [
       "\n",
       "        <iframe\n",
       "            width=\"700\"\n",
       "            height=\"500\"\n",
       "            src=\"Output/points.html\"\n",
       "            frameborder=\"0\"\n",
       "            allowfullscreen\n",
       "        ></iframe>\n",
       "        "
      ],
      "text/plain": [
       "<IPython.lib.display.IFrame at 0x7f79d4e2d590>"
      ]
     },
     "execution_count": 3,
     "metadata": {},
     "output_type": "execute_result"
    }
   ],
   "source": [
    "import folium\n",
    "import os\n",
    "from IPython.display import IFrame\n",
    "\n",
    "\n",
    "pointsGeo=os.path.join('Data/points.geojson')\n",
    "map_points = folium.Map(location=[52,5.7],tiles='Mapbox Bright', zoom_start=6)\n",
    "map_points.choropleth(geo_path=pointsGeo)\n",
    "map_points.save('Output/points.html')\n",
    "IFrame('Output/points.html', width=700, height=500)"
   ]
  },
  {
   "cell_type": "code",
   "execution_count": null,
   "metadata": {
    "collapsed": true
   },
   "outputs": [],
   "source": []
  }
 ],
 "metadata": {
  "kernelspec": {
   "display_name": "Python 2",
   "language": "python",
   "name": "python2"
  },
  "language_info": {
   "codemirror_mode": {
    "name": "ipython",
    "version": 2
   },
   "file_extension": ".py",
   "mimetype": "text/x-python",
   "name": "python",
   "nbconvert_exporter": "python",
   "pygments_lexer": "ipython2",
   "version": "2.7.12"
  },
  "widgets": {
   "state": {},
   "version": "1.1.2"
  }
 },
 "nbformat": 4,
 "nbformat_minor": 0
}
