{
 "cells": [
  {
   "cell_type": "code",
   "execution_count": 60,
   "metadata": {
    "collapsed": false,
    "scrolled": true
   },
   "outputs": [
    {
     "name": "stdout",
     "output_type": "stream",
     "text": [
      "Downloading: Temp/landsat.tar.gz Bytes: 420944962\n",
      "Download complete \n",
      "\n",
      "Write result to disk \n",
      "\n",
      "Reprojecting result to WGS84 latlong \n",
      "\n",
      "Showing result \n",
      "\n"
     ]
    },
    {
     "data": {
      "image/png": "[encoded data removed]",
      "text/plain": [
       "<matplotlib.figure.Figure at 0x7fccf05d2a90>"
      ]
     },
     "metadata": {},
     "output_type": "display_data"
    },
    {
     "name": "stdout",
     "output_type": "stream",
     "text": [
      "Removing temporary files \n",
      "\n",
      "Rperations done\n"
     ]
    }
   ],
   "source": [
    "#Dzjio Skripting\n",
    "#Excercise 12\n",
    "#Gersom Zomer & Yannick Mijnheer\n",
    "#24 januari 2017\n",
    "\n",
    "#import libaries\n",
    "%matplotlib inline\n",
    "import urllib2\n",
    "import tarfile\n",
    "from osgeo import gdal\n",
    "from osgeo.gdalconst import GA_ReadOnly, GDT_Float32\n",
    "import numpy as np\n",
    "import os\n",
    "import matplotlib.pyplot as plt\n",
    "\n",
    "#download files\n",
    "url = \"https://www.dropbox.com/s/zb7nrla6fqi1mq4/LC81980242014260-SC20150123044700.tar.gz?dl=1\"\n",
    "\n",
    "file_name = 'Temp/landsat.tar.gz'\n",
    "u = urllib2.urlopen(url)\n",
    "f = open(file_name, 'wb')\n",
    "meta = u.info()\n",
    "file_size = int(meta.getheaders(\"Content-Length\")[0])\n",
    "print \"Downloading: %s Bytes: %s\" % (file_name, file_size)\n",
    "file_size_dl = 0\n",
    "block_sz = 8192\n",
    "while True:\n",
    "    buffer = u.read(block_sz)\n",
    "    if not buffer:\n",
    "        break\n",
    "        \n",
    "    file_size_dl += len(buffer)\n",
    "    f.write(buffer)\n",
    "    status = r\"%10d  [%3.2f%%]\" % (file_size_dl, file_size_dl * 100. / file_size)\n",
    "    status = status + chr(8)*(len(status)+1)\n",
    "    print status,\"\\r\",\n",
    "\n",
    "print 'Download complete \\n' \n",
    "f.close()\n",
    "\n",
    "#unpack files\n",
    "tar = tarfile.open(\"Temp/landsat.tar.gz\")\n",
    "tar.extractall(\"Temp\")\n",
    "tar.close\n",
    "\n",
    "band4 = gdal.Open('Temp/LC81980242014260LGN00_sr_band4.tif', GA_ReadOnly)\n",
    "band5 = gdal.Open('Temp/LC81980242014260LGN00_sr_band5.tif', GA_ReadOnly)\n",
    "\n",
    "#Read data into an array\n",
    "band4Arr = band4.ReadAsArray(0,0,band4.RasterXSize, band4.RasterYSize)\n",
    "band5Arr = band5.ReadAsArray(0,0,band5.RasterXSize, band5.RasterYSize)\n",
    "                                                 \n",
    "# set the data type\n",
    "band4Arr=band4Arr.astype(np.float32)\n",
    "band5Arr=band5Arr.astype(np.float32)\n",
    "\n",
    "#Derive the NDWI\n",
    "mask = np.greater(band4Arr+band5Arr,0)\n",
    "\n",
    "#set np.errstate to avoid warning of invalid values (i.e. NaN values) in the divide \n",
    "with np.errstate(invalid='ignore') and np.errstate(divide='ignore'):\n",
    "    ndwi = np.choose(mask,(-99,(band4Arr-band5Arr)/(band4Arr+band5Arr)))\n",
    "\n",
    "#Write the result to disk\n",
    "print \"Write result to disk \\n\"\n",
    "driver = gdal.GetDriverByName('GTiff')\n",
    "outDataSet=driver.Create('Temp/ndwi.tif', band4.RasterXSize, band4.RasterYSize, 1, GDT_Float32)\n",
    "outBand = outDataSet.GetRasterBand(1)\n",
    "outBand.WriteArray(ndwi,0,0)\n",
    "outBand.SetNoDataValue(-99)\n",
    "\n",
    "#set the projection and extent information of the dataset\n",
    "outDataSet.SetProjection(band4.GetProjection())\n",
    "outDataSet.SetGeoTransform(band4.GetGeoTransform())\n",
    "\n",
    "#Saving the image\n",
    "outBand.FlushCache()\n",
    "outDataSet.FlushCache()\n",
    "\n",
    "#reproject the image\n",
    "print 'Reprojecting result to WGS84 latlong \\n'\n",
    "os.system('gdalwarp Temp/ndwi.tif Output/ndwi.tif -t_srs \"EPSG:4326\"')\n",
    "\n",
    "# Open image\n",
    "print 'Showing result \\n'\n",
    "dsll = gdal.Open(\"Output/ndwi.tif\")\n",
    "\n",
    "# Read raster data\n",
    "ndwi = dsll.ReadAsArray(0, 0, dsll.RasterXSize, dsll.RasterYSize)\n",
    "\n",
    "# Now plot the raster data using gist_earth palette\n",
    "plt.imshow(ndwi, interpolation='nearest', vmin=0, cmap=plt.cm.gist_earth)\n",
    "plt.show()\n",
    "\n",
    "dsll = None\n",
    "\n",
    "#removing temporary files\n",
    "print 'Removing temporary files \\n'\n",
    "os.system('rm ~/jupyter/notebooks/GRS33806/Temp/*')\n",
    "print 'Rperations done'"
   ]
  }
 ],
 "metadata": {
  "kernelspec": {
   "display_name": "Python 2",
   "language": "python",
   "name": "python2"
  },
  "language_info": {
   "codemirror_mode": {
    "name": "ipython",
    "version": 2
   },
   "file_extension": ".py",
   "mimetype": "text/x-python",
   "name": "python",
   "nbconvert_exporter": "python",
   "pygments_lexer": "ipython2",
   "version": "2.7.12"
  },
  "widgets": {
   "state": {},
   "version": "1.1.2"
  }
 },
 "nbformat": 4,
 "nbformat_minor": 0
}
